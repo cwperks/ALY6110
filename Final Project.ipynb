{
 "cells": [
  {
   "cell_type": "code",
   "execution_count": 4,
   "id": "7845b2aa",
   "metadata": {},
   "outputs": [],
   "source": [
    "from pyspark import SparkConf, SparkContext\n",
    "from pyspark.sql import SparkSession\n",
    "\n",
    "conf = SparkConf().setMaster(\"local\").setAppName(\"NYC Taxi Fare\")\n",
    "conf.set(\"spark.executor.memory\", \"6G\")\n",
    "conf.set(\"spark.driver.memory\", \"2G\")\n",
    "conf.set(\"spark.executor.cores\", \"4\")\n",
    "conf.set(\"spark.serializer\", \"org.apache.spark.serializer.KryoSerializer\")\n",
    "conf.set(\"spark.default.parallelism\", \"4\")\n",
    "spark_context =  SparkContext.getOrCreate(conf=conf)\n",
    "\n",
    "spark_builder = SparkSession.builder.config(conf=conf)\n",
    "\n",
    "spark = spark_builder.getOrCreate()"
   ]
  },
  {
   "cell_type": "code",
   "execution_count": 5,
   "id": "91aff2e4",
   "metadata": {},
   "outputs": [],
   "source": [
    "taxi_fare_df = spark.read.option(\"header\", True).csv(\"data/combined.csv\")"
   ]
  },
  {
   "cell_type": "code",
   "execution_count": 5,
   "id": "395a2998",
   "metadata": {},
   "outputs": [
    {
     "name": "stdout",
     "output_type": "stream",
     "text": [
      "root\n",
      " |-- VendorID: string (nullable = true)\n",
      " |-- tpep_pickup_datetime: string (nullable = true)\n",
      " |-- tpep_dropoff_datetime: string (nullable = true)\n",
      " |-- passenger_count: string (nullable = true)\n",
      " |-- trip_distance: string (nullable = true)\n",
      " |-- RatecodeID: string (nullable = true)\n",
      " |-- store_and_fwd_flag: string (nullable = true)\n",
      " |-- PULocationID: string (nullable = true)\n",
      " |-- DOLocationID: string (nullable = true)\n",
      " |-- payment_type: string (nullable = true)\n",
      " |-- fare_amount: string (nullable = true)\n",
      " |-- extra: string (nullable = true)\n",
      " |-- mta_tax: string (nullable = true)\n",
      " |-- tip_amount: string (nullable = true)\n",
      " |-- tolls_amount: string (nullable = true)\n",
      " |-- improvement_surcharge: string (nullable = true)\n",
      " |-- total_amount: string (nullable = true)\n",
      " |-- congestion_surcharge: string (nullable = true)\n",
      "\n"
     ]
    }
   ],
   "source": [
    "taxi_fare_df.printSchema()"
   ]
  },
  {
   "cell_type": "code",
   "execution_count": 3,
   "id": "217bd1f0",
   "metadata": {},
   "outputs": [
    {
     "data": {
      "text/plain": [
       "[Row(VendorID='1', tpep_pickup_datetime='2019-01-01 00:46:40', tpep_dropoff_datetime='2019-01-01 00:53:20', passenger_count='1', trip_distance='1.50', RatecodeID='1', store_and_fwd_flag='N', PULocationID='151', DOLocationID='239', payment_type='1', fare_amount='7', extra='0.5', mta_tax='0.5', tip_amount='1.65', tolls_amount='0', improvement_surcharge='0.3', total_amount='9.95', congestion_surcharge=None),\n",
       " Row(VendorID='1', tpep_pickup_datetime='2019-01-01 00:59:47', tpep_dropoff_datetime='2019-01-01 01:18:59', passenger_count='1', trip_distance='2.60', RatecodeID='1', store_and_fwd_flag='N', PULocationID='239', DOLocationID='246', payment_type='1', fare_amount='14', extra='0.5', mta_tax='0.5', tip_amount='1', tolls_amount='0', improvement_surcharge='0.3', total_amount='16.3', congestion_surcharge=None),\n",
       " Row(VendorID='2', tpep_pickup_datetime='2018-12-21 13:48:30', tpep_dropoff_datetime='2018-12-21 13:52:40', passenger_count='3', trip_distance='.00', RatecodeID='1', store_and_fwd_flag='N', PULocationID='236', DOLocationID='236', payment_type='1', fare_amount='4.5', extra='0.5', mta_tax='0.5', tip_amount='0', tolls_amount='0', improvement_surcharge='0.3', total_amount='5.8', congestion_surcharge=None),\n",
       " Row(VendorID='2', tpep_pickup_datetime='2018-11-28 15:52:25', tpep_dropoff_datetime='2018-11-28 15:55:45', passenger_count='5', trip_distance='.00', RatecodeID='1', store_and_fwd_flag='N', PULocationID='193', DOLocationID='193', payment_type='2', fare_amount='3.5', extra='0.5', mta_tax='0.5', tip_amount='0', tolls_amount='0', improvement_surcharge='0.3', total_amount='7.55', congestion_surcharge=None),\n",
       " Row(VendorID='2', tpep_pickup_datetime='2018-11-28 15:56:57', tpep_dropoff_datetime='2018-11-28 15:58:33', passenger_count='5', trip_distance='.00', RatecodeID='2', store_and_fwd_flag='N', PULocationID='193', DOLocationID='193', payment_type='2', fare_amount='52', extra='0', mta_tax='0.5', tip_amount='0', tolls_amount='0', improvement_surcharge='0.3', total_amount='55.55', congestion_surcharge=None)]"
      ]
     },
     "execution_count": 3,
     "metadata": {},
     "output_type": "execute_result"
    }
   ],
   "source": [
    "taxi_fare_df.head(5)"
   ]
  },
  {
   "cell_type": "code",
   "execution_count": 7,
   "id": "841f9de1",
   "metadata": {},
   "outputs": [
    {
     "name": "stderr",
     "output_type": "stream",
     "text": [
      "                                                                                \r"
     ]
    },
    {
     "data": {
      "text/plain": [
       "124290082"
      ]
     },
     "execution_count": 7,
     "metadata": {},
     "output_type": "execute_result"
    }
   ],
   "source": [
    "taxi_fare_df.count()"
   ]
  },
  {
   "cell_type": "code",
   "execution_count": 11,
   "id": "6479201f",
   "metadata": {},
   "outputs": [],
   "source": [
    "import pandas as pd\n",
    "\n",
    "taxi_fare_sample = pd.read_csv('data/sample.csv')"
   ]
  },
  {
   "cell_type": "code",
   "execution_count": 12,
   "id": "6736f0c6",
   "metadata": {},
   "outputs": [
    {
     "data": {
      "text/html": [
       "<div>\n",
       "<style scoped>\n",
       "    .dataframe tbody tr th:only-of-type {\n",
       "        vertical-align: middle;\n",
       "    }\n",
       "\n",
       "    .dataframe tbody tr th {\n",
       "        vertical-align: top;\n",
       "    }\n",
       "\n",
       "    .dataframe thead th {\n",
       "        text-align: right;\n",
       "    }\n",
       "</style>\n",
       "<table border=\"1\" class=\"dataframe\">\n",
       "  <thead>\n",
       "    <tr style=\"text-align: right;\">\n",
       "      <th></th>\n",
       "      <th>VendorID</th>\n",
       "      <th>tpep_pickup_datetime</th>\n",
       "      <th>tpep_dropoff_datetime</th>\n",
       "      <th>passenger_count</th>\n",
       "      <th>trip_distance</th>\n",
       "      <th>RatecodeID</th>\n",
       "      <th>store_and_fwd_flag</th>\n",
       "      <th>PULocationID</th>\n",
       "      <th>DOLocationID</th>\n",
       "      <th>payment_type</th>\n",
       "      <th>fare_amount</th>\n",
       "      <th>extra</th>\n",
       "      <th>mta_tax</th>\n",
       "      <th>tip_amount</th>\n",
       "      <th>tolls_amount</th>\n",
       "      <th>improvement_surcharge</th>\n",
       "      <th>total_amount</th>\n",
       "      <th>congestion_surcharge</th>\n",
       "    </tr>\n",
       "  </thead>\n",
       "  <tbody>\n",
       "    <tr>\n",
       "      <th>0</th>\n",
       "      <td>1</td>\n",
       "      <td>2019-01-01 00:46:40</td>\n",
       "      <td>2019-01-01 00:53:20</td>\n",
       "      <td>1</td>\n",
       "      <td>1.5</td>\n",
       "      <td>1</td>\n",
       "      <td>N</td>\n",
       "      <td>151</td>\n",
       "      <td>239</td>\n",
       "      <td>1</td>\n",
       "      <td>7.0</td>\n",
       "      <td>0.5</td>\n",
       "      <td>0.5</td>\n",
       "      <td>1.65</td>\n",
       "      <td>0.0</td>\n",
       "      <td>0.3</td>\n",
       "      <td>9.95</td>\n",
       "      <td>NaN</td>\n",
       "    </tr>\n",
       "    <tr>\n",
       "      <th>1</th>\n",
       "      <td>1</td>\n",
       "      <td>2019-01-01 00:59:47</td>\n",
       "      <td>2019-01-01 01:18:59</td>\n",
       "      <td>1</td>\n",
       "      <td>2.6</td>\n",
       "      <td>1</td>\n",
       "      <td>N</td>\n",
       "      <td>239</td>\n",
       "      <td>246</td>\n",
       "      <td>1</td>\n",
       "      <td>14.0</td>\n",
       "      <td>0.5</td>\n",
       "      <td>0.5</td>\n",
       "      <td>1.00</td>\n",
       "      <td>0.0</td>\n",
       "      <td>0.3</td>\n",
       "      <td>16.30</td>\n",
       "      <td>NaN</td>\n",
       "    </tr>\n",
       "    <tr>\n",
       "      <th>2</th>\n",
       "      <td>2</td>\n",
       "      <td>2018-12-21 13:48:30</td>\n",
       "      <td>2018-12-21 13:52:40</td>\n",
       "      <td>3</td>\n",
       "      <td>0.0</td>\n",
       "      <td>1</td>\n",
       "      <td>N</td>\n",
       "      <td>236</td>\n",
       "      <td>236</td>\n",
       "      <td>1</td>\n",
       "      <td>4.5</td>\n",
       "      <td>0.5</td>\n",
       "      <td>0.5</td>\n",
       "      <td>0.00</td>\n",
       "      <td>0.0</td>\n",
       "      <td>0.3</td>\n",
       "      <td>5.80</td>\n",
       "      <td>NaN</td>\n",
       "    </tr>\n",
       "    <tr>\n",
       "      <th>3</th>\n",
       "      <td>2</td>\n",
       "      <td>2018-11-28 15:52:25</td>\n",
       "      <td>2018-11-28 15:55:45</td>\n",
       "      <td>5</td>\n",
       "      <td>0.0</td>\n",
       "      <td>1</td>\n",
       "      <td>N</td>\n",
       "      <td>193</td>\n",
       "      <td>193</td>\n",
       "      <td>2</td>\n",
       "      <td>3.5</td>\n",
       "      <td>0.5</td>\n",
       "      <td>0.5</td>\n",
       "      <td>0.00</td>\n",
       "      <td>0.0</td>\n",
       "      <td>0.3</td>\n",
       "      <td>7.55</td>\n",
       "      <td>NaN</td>\n",
       "    </tr>\n",
       "    <tr>\n",
       "      <th>4</th>\n",
       "      <td>2</td>\n",
       "      <td>2018-11-28 15:56:57</td>\n",
       "      <td>2018-11-28 15:58:33</td>\n",
       "      <td>5</td>\n",
       "      <td>0.0</td>\n",
       "      <td>2</td>\n",
       "      <td>N</td>\n",
       "      <td>193</td>\n",
       "      <td>193</td>\n",
       "      <td>2</td>\n",
       "      <td>52.0</td>\n",
       "      <td>0.0</td>\n",
       "      <td>0.5</td>\n",
       "      <td>0.00</td>\n",
       "      <td>0.0</td>\n",
       "      <td>0.3</td>\n",
       "      <td>55.55</td>\n",
       "      <td>NaN</td>\n",
       "    </tr>\n",
       "  </tbody>\n",
       "</table>\n",
       "</div>"
      ],
      "text/plain": [
       "   VendorID tpep_pickup_datetime tpep_dropoff_datetime  passenger_count  \\\n",
       "0         1  2019-01-01 00:46:40   2019-01-01 00:53:20                1   \n",
       "1         1  2019-01-01 00:59:47   2019-01-01 01:18:59                1   \n",
       "2         2  2018-12-21 13:48:30   2018-12-21 13:52:40                3   \n",
       "3         2  2018-11-28 15:52:25   2018-11-28 15:55:45                5   \n",
       "4         2  2018-11-28 15:56:57   2018-11-28 15:58:33                5   \n",
       "\n",
       "   trip_distance  RatecodeID store_and_fwd_flag  PULocationID  DOLocationID  \\\n",
       "0            1.5           1                  N           151           239   \n",
       "1            2.6           1                  N           239           246   \n",
       "2            0.0           1                  N           236           236   \n",
       "3            0.0           1                  N           193           193   \n",
       "4            0.0           2                  N           193           193   \n",
       "\n",
       "   payment_type  fare_amount  extra  mta_tax  tip_amount  tolls_amount  \\\n",
       "0             1          7.0    0.5      0.5        1.65           0.0   \n",
       "1             1         14.0    0.5      0.5        1.00           0.0   \n",
       "2             1          4.5    0.5      0.5        0.00           0.0   \n",
       "3             2          3.5    0.5      0.5        0.00           0.0   \n",
       "4             2         52.0    0.0      0.5        0.00           0.0   \n",
       "\n",
       "   improvement_surcharge  total_amount  congestion_surcharge  \n",
       "0                    0.3          9.95                   NaN  \n",
       "1                    0.3         16.30                   NaN  \n",
       "2                    0.3          5.80                   NaN  \n",
       "3                    0.3          7.55                   NaN  \n",
       "4                    0.3         55.55                   NaN  "
      ]
     },
     "execution_count": 12,
     "metadata": {},
     "output_type": "execute_result"
    }
   ],
   "source": [
    "taxi_fare_sample.head()"
   ]
  },
  {
   "cell_type": "code",
   "execution_count": 3,
   "id": "59947d49",
   "metadata": {},
   "outputs": [
    {
     "name": "stderr",
     "output_type": "stream",
     "text": [
      "                                                                                \r"
     ]
    },
    {
     "data": {
      "text/plain": [
       "2349487913.4480224"
      ]
     },
     "execution_count": 3,
     "metadata": {},
     "output_type": "execute_result"
    }
   ],
   "source": [
    "import pyspark.sql.functions as F     \n",
    "\n",
    "\n",
    "taxi_fare_df.agg(F.sum(\"total_amount\")).collect()[0][0]"
   ]
  },
  {
   "cell_type": "code",
   "execution_count": 21,
   "id": "327517ef",
   "metadata": {},
   "outputs": [],
   "source": [
    "# What not to do! I have 16 GBs of RAM on my Mac and this will not load\n",
    "\n",
    "# Pandas does support `.chunksize`, but this exercise really shows the power of spark.\n",
    "\n",
    "# taxi_df = pd.read_csv(\"data/combined.csv\")"
   ]
  },
  {
   "cell_type": "code",
   "execution_count": 22,
   "id": "feea42de",
   "metadata": {},
   "outputs": [
    {
     "name": "stderr",
     "output_type": "stream",
     "text": [
      "[Stage 16:=======================================================>(85 + 1) / 86]\r"
     ]
    },
    {
     "name": "stdout",
     "output_type": "stream",
     "text": [
      "+---------------+--------+\n",
      "|passenger_count|count   |\n",
      "+---------------+--------+\n",
      "|7              |540     |\n",
      "|3              |4992295 |\n",
      "|8              |357     |\n",
      "|0              |2333298 |\n",
      "|5              |4507188 |\n",
      "|6              |2752336 |\n",
      "|9              |294     |\n",
      "|1              |87092454|\n",
      "|4              |2302735 |\n",
      "|2              |18176524|\n",
      "|null           |2132061 |\n",
      "+---------------+--------+\n",
      "\n"
     ]
    },
    {
     "name": "stderr",
     "output_type": "stream",
     "text": [
      "\r",
      "                                                                                \r"
     ]
    }
   ],
   "source": [
    "taxi_fare_df.groupBy(\"passenger_count\").count().show(truncate=False)"
   ]
  },
  {
   "cell_type": "code",
   "execution_count": 23,
   "id": "97a473dd",
   "metadata": {},
   "outputs": [
    {
     "data": {
      "text/plain": [
       "Column<'VendorID'>"
      ]
     },
     "execution_count": 23,
     "metadata": {},
     "output_type": "execute_result"
    }
   ],
   "source": [
    "taxi_fare_df[0]"
   ]
  },
  {
   "cell_type": "code",
   "execution_count": 13,
   "id": "2f163180",
   "metadata": {},
   "outputs": [
    {
     "data": {
      "text/plain": [
       "Row(VendorID='1', tpep_pickup_datetime='2019-01-01 00:46:40', tpep_dropoff_datetime='2019-01-01 00:53:20', passenger_count='1', trip_distance='1.50', RatecodeID='1', store_and_fwd_flag='N', PULocationID='151', DOLocationID='239', payment_type='1', fare_amount='7', extra='0.5', mta_tax='0.5', tip_amount='1.65', tolls_amount='0', improvement_surcharge='0.3', total_amount='9.95', congestion_surcharge=None)"
      ]
     },
     "execution_count": 13,
     "metadata": {},
     "output_type": "execute_result"
    }
   ],
   "source": [
    "taxi_fare_df.first()"
   ]
  },
  {
   "cell_type": "code",
   "execution_count": 16,
   "id": "ff0b4bd1",
   "metadata": {},
   "outputs": [
    {
     "data": {
      "text/plain": [
       "str"
      ]
     },
     "execution_count": 16,
     "metadata": {},
     "output_type": "execute_result"
    }
   ],
   "source": [
    "taxi_fare_df.first().tpep_pickup_datetime"
   ]
  },
  {
   "cell_type": "code",
   "execution_count": 18,
   "id": "880d8fa1",
   "metadata": {},
   "outputs": [
    {
     "name": "stderr",
     "output_type": "stream",
     "text": [
      "21/12/09 21:08:17 WARN TaskSetManager: Lost task 4.0 in stage 11.0 (TID 183) (macbook-pro executor driver): TaskKilled (Stage cancelled)\n"
     ]
    },
    {
     "ename": "Py4JJavaError",
     "evalue": "An error occurred while calling o201.showString.\n: org.apache.spark.SparkException: Job 9 cancelled \n\tat org.apache.spark.scheduler.DAGScheduler.failJobAndIndependentStages(DAGScheduler.scala:2403)\n\tat org.apache.spark.scheduler.DAGScheduler.handleJobCancellation(DAGScheduler.scala:2299)\n\tat org.apache.spark.scheduler.DAGSchedulerEventProcessLoop.doOnReceive(DAGScheduler.scala:2550)\n\tat org.apache.spark.scheduler.DAGSchedulerEventProcessLoop.onReceive(DAGScheduler.scala:2533)\n\tat org.apache.spark.scheduler.DAGSchedulerEventProcessLoop.onReceive(DAGScheduler.scala:2522)\n\tat org.apache.spark.util.EventLoop$$anon$1.run(EventLoop.scala:49)\n",
     "output_type": "error",
     "traceback": [
      "\u001b[0;31m---------------------------------------------------------------------------\u001b[0m",
      "\u001b[0;31mPy4JJavaError\u001b[0m                             Traceback (most recent call last)",
      "\u001b[0;32m/var/folders/7r/72pw73153fq0wxt3j2p7tklh0000gn/T/ipykernel_62211/1402542506.py\u001b[0m in \u001b[0;36m<module>\u001b[0;34m\u001b[0m\n\u001b[1;32m      1\u001b[0m \u001b[0;32mfrom\u001b[0m \u001b[0mpyspark\u001b[0m\u001b[0;34m.\u001b[0m\u001b[0msql\u001b[0m\u001b[0;34m.\u001b[0m\u001b[0mfunctions\u001b[0m \u001b[0;32mimport\u001b[0m \u001b[0misnan\u001b[0m\u001b[0;34m,\u001b[0m \u001b[0mwhen\u001b[0m\u001b[0;34m,\u001b[0m \u001b[0mcount\u001b[0m\u001b[0;34m,\u001b[0m \u001b[0mcol\u001b[0m\u001b[0;34m\u001b[0m\u001b[0;34m\u001b[0m\u001b[0m\n\u001b[1;32m      2\u001b[0m \u001b[0;34m\u001b[0m\u001b[0m\n\u001b[0;32m----> 3\u001b[0;31m \u001b[0mtaxi_fare_df\u001b[0m\u001b[0;34m.\u001b[0m\u001b[0mselect\u001b[0m\u001b[0;34m(\u001b[0m\u001b[0;34m[\u001b[0m\u001b[0mcount\u001b[0m\u001b[0;34m(\u001b[0m\u001b[0mwhen\u001b[0m\u001b[0;34m(\u001b[0m\u001b[0misnan\u001b[0m\u001b[0;34m(\u001b[0m\u001b[0mc\u001b[0m\u001b[0;34m)\u001b[0m\u001b[0;34m,\u001b[0m \u001b[0mc\u001b[0m\u001b[0;34m)\u001b[0m\u001b[0;34m)\u001b[0m\u001b[0;34m.\u001b[0m\u001b[0malias\u001b[0m\u001b[0;34m(\u001b[0m\u001b[0mc\u001b[0m\u001b[0;34m)\u001b[0m \u001b[0;32mfor\u001b[0m \u001b[0mc\u001b[0m \u001b[0;32min\u001b[0m \u001b[0mtaxi_fare_df\u001b[0m\u001b[0;34m.\u001b[0m\u001b[0mcolumns\u001b[0m\u001b[0;34m]\u001b[0m\u001b[0;34m)\u001b[0m\u001b[0;34m.\u001b[0m\u001b[0mshow\u001b[0m\u001b[0;34m(\u001b[0m\u001b[0;34m)\u001b[0m\u001b[0;34m\u001b[0m\u001b[0;34m\u001b[0m\u001b[0m\n\u001b[0m",
      "\u001b[0;32m~/Documents/Northeastern/ALY6110/ALY6110.70531_Assignment3_Craig_Perkins_Python/env/lib/python3.9/site-packages/pyspark/sql/dataframe.py\u001b[0m in \u001b[0;36mshow\u001b[0;34m(self, n, truncate, vertical)\u001b[0m\n\u001b[1;32m    492\u001b[0m \u001b[0;34m\u001b[0m\u001b[0m\n\u001b[1;32m    493\u001b[0m         \u001b[0;32mif\u001b[0m \u001b[0misinstance\u001b[0m\u001b[0;34m(\u001b[0m\u001b[0mtruncate\u001b[0m\u001b[0;34m,\u001b[0m \u001b[0mbool\u001b[0m\u001b[0;34m)\u001b[0m \u001b[0;32mand\u001b[0m \u001b[0mtruncate\u001b[0m\u001b[0;34m:\u001b[0m\u001b[0;34m\u001b[0m\u001b[0;34m\u001b[0m\u001b[0m\n\u001b[0;32m--> 494\u001b[0;31m             \u001b[0mprint\u001b[0m\u001b[0;34m(\u001b[0m\u001b[0mself\u001b[0m\u001b[0;34m.\u001b[0m\u001b[0m_jdf\u001b[0m\u001b[0;34m.\u001b[0m\u001b[0mshowString\u001b[0m\u001b[0;34m(\u001b[0m\u001b[0mn\u001b[0m\u001b[0;34m,\u001b[0m \u001b[0;36m20\u001b[0m\u001b[0;34m,\u001b[0m \u001b[0mvertical\u001b[0m\u001b[0;34m)\u001b[0m\u001b[0;34m)\u001b[0m\u001b[0;34m\u001b[0m\u001b[0;34m\u001b[0m\u001b[0m\n\u001b[0m\u001b[1;32m    495\u001b[0m         \u001b[0;32melse\u001b[0m\u001b[0;34m:\u001b[0m\u001b[0;34m\u001b[0m\u001b[0;34m\u001b[0m\u001b[0m\n\u001b[1;32m    496\u001b[0m             \u001b[0;32mtry\u001b[0m\u001b[0;34m:\u001b[0m\u001b[0;34m\u001b[0m\u001b[0;34m\u001b[0m\u001b[0m\n",
      "\u001b[0;32m~/Documents/Northeastern/ALY6110/ALY6110.70531_Assignment3_Craig_Perkins_Python/env/lib/python3.9/site-packages/py4j/java_gateway.py\u001b[0m in \u001b[0;36m__call__\u001b[0;34m(self, *args)\u001b[0m\n\u001b[1;32m   1307\u001b[0m \u001b[0;34m\u001b[0m\u001b[0m\n\u001b[1;32m   1308\u001b[0m         \u001b[0manswer\u001b[0m \u001b[0;34m=\u001b[0m \u001b[0mself\u001b[0m\u001b[0;34m.\u001b[0m\u001b[0mgateway_client\u001b[0m\u001b[0;34m.\u001b[0m\u001b[0msend_command\u001b[0m\u001b[0;34m(\u001b[0m\u001b[0mcommand\u001b[0m\u001b[0;34m)\u001b[0m\u001b[0;34m\u001b[0m\u001b[0;34m\u001b[0m\u001b[0m\n\u001b[0;32m-> 1309\u001b[0;31m         return_value = get_return_value(\n\u001b[0m\u001b[1;32m   1310\u001b[0m             answer, self.gateway_client, self.target_id, self.name)\n\u001b[1;32m   1311\u001b[0m \u001b[0;34m\u001b[0m\u001b[0m\n",
      "\u001b[0;32m~/Documents/Northeastern/ALY6110/ALY6110.70531_Assignment3_Craig_Perkins_Python/env/lib/python3.9/site-packages/pyspark/sql/utils.py\u001b[0m in \u001b[0;36mdeco\u001b[0;34m(*a, **kw)\u001b[0m\n\u001b[1;32m    109\u001b[0m     \u001b[0;32mdef\u001b[0m \u001b[0mdeco\u001b[0m\u001b[0;34m(\u001b[0m\u001b[0;34m*\u001b[0m\u001b[0ma\u001b[0m\u001b[0;34m,\u001b[0m \u001b[0;34m**\u001b[0m\u001b[0mkw\u001b[0m\u001b[0;34m)\u001b[0m\u001b[0;34m:\u001b[0m\u001b[0;34m\u001b[0m\u001b[0;34m\u001b[0m\u001b[0m\n\u001b[1;32m    110\u001b[0m         \u001b[0;32mtry\u001b[0m\u001b[0;34m:\u001b[0m\u001b[0;34m\u001b[0m\u001b[0;34m\u001b[0m\u001b[0m\n\u001b[0;32m--> 111\u001b[0;31m             \u001b[0;32mreturn\u001b[0m \u001b[0mf\u001b[0m\u001b[0;34m(\u001b[0m\u001b[0;34m*\u001b[0m\u001b[0ma\u001b[0m\u001b[0;34m,\u001b[0m \u001b[0;34m**\u001b[0m\u001b[0mkw\u001b[0m\u001b[0;34m)\u001b[0m\u001b[0;34m\u001b[0m\u001b[0;34m\u001b[0m\u001b[0m\n\u001b[0m\u001b[1;32m    112\u001b[0m         \u001b[0;32mexcept\u001b[0m \u001b[0mpy4j\u001b[0m\u001b[0;34m.\u001b[0m\u001b[0mprotocol\u001b[0m\u001b[0;34m.\u001b[0m\u001b[0mPy4JJavaError\u001b[0m \u001b[0;32mas\u001b[0m \u001b[0me\u001b[0m\u001b[0;34m:\u001b[0m\u001b[0;34m\u001b[0m\u001b[0;34m\u001b[0m\u001b[0m\n\u001b[1;32m    113\u001b[0m             \u001b[0mconverted\u001b[0m \u001b[0;34m=\u001b[0m \u001b[0mconvert_exception\u001b[0m\u001b[0;34m(\u001b[0m\u001b[0me\u001b[0m\u001b[0;34m.\u001b[0m\u001b[0mjava_exception\u001b[0m\u001b[0;34m)\u001b[0m\u001b[0;34m\u001b[0m\u001b[0;34m\u001b[0m\u001b[0m\n",
      "\u001b[0;32m~/Documents/Northeastern/ALY6110/ALY6110.70531_Assignment3_Craig_Perkins_Python/env/lib/python3.9/site-packages/py4j/protocol.py\u001b[0m in \u001b[0;36mget_return_value\u001b[0;34m(answer, gateway_client, target_id, name)\u001b[0m\n\u001b[1;32m    324\u001b[0m             \u001b[0mvalue\u001b[0m \u001b[0;34m=\u001b[0m \u001b[0mOUTPUT_CONVERTER\u001b[0m\u001b[0;34m[\u001b[0m\u001b[0mtype\u001b[0m\u001b[0;34m]\u001b[0m\u001b[0;34m(\u001b[0m\u001b[0manswer\u001b[0m\u001b[0;34m[\u001b[0m\u001b[0;36m2\u001b[0m\u001b[0;34m:\u001b[0m\u001b[0;34m]\u001b[0m\u001b[0;34m,\u001b[0m \u001b[0mgateway_client\u001b[0m\u001b[0;34m)\u001b[0m\u001b[0;34m\u001b[0m\u001b[0;34m\u001b[0m\u001b[0m\n\u001b[1;32m    325\u001b[0m             \u001b[0;32mif\u001b[0m \u001b[0manswer\u001b[0m\u001b[0;34m[\u001b[0m\u001b[0;36m1\u001b[0m\u001b[0;34m]\u001b[0m \u001b[0;34m==\u001b[0m \u001b[0mREFERENCE_TYPE\u001b[0m\u001b[0;34m:\u001b[0m\u001b[0;34m\u001b[0m\u001b[0;34m\u001b[0m\u001b[0m\n\u001b[0;32m--> 326\u001b[0;31m                 raise Py4JJavaError(\n\u001b[0m\u001b[1;32m    327\u001b[0m                     \u001b[0;34m\"An error occurred while calling {0}{1}{2}.\\n\"\u001b[0m\u001b[0;34m.\u001b[0m\u001b[0;34m\u001b[0m\u001b[0;34m\u001b[0m\u001b[0m\n\u001b[1;32m    328\u001b[0m                     format(target_id, \".\", name), value)\n",
      "\u001b[0;31mPy4JJavaError\u001b[0m: An error occurred while calling o201.showString.\n: org.apache.spark.SparkException: Job 9 cancelled \n\tat org.apache.spark.scheduler.DAGScheduler.failJobAndIndependentStages(DAGScheduler.scala:2403)\n\tat org.apache.spark.scheduler.DAGScheduler.handleJobCancellation(DAGScheduler.scala:2299)\n\tat org.apache.spark.scheduler.DAGSchedulerEventProcessLoop.doOnReceive(DAGScheduler.scala:2550)\n\tat org.apache.spark.scheduler.DAGSchedulerEventProcessLoop.onReceive(DAGScheduler.scala:2533)\n\tat org.apache.spark.scheduler.DAGSchedulerEventProcessLoop.onReceive(DAGScheduler.scala:2522)\n\tat org.apache.spark.util.EventLoop$$anon$1.run(EventLoop.scala:49)\n"
     ]
    }
   ],
   "source": [
    "from pyspark.sql.functions import isnan, when, count, col\n",
    "\n",
    "taxi_fare_df.select([count(when(isnan(c), c)).alias(c) for c in taxi_fare_df.columns]).show()"
   ]
  },
  {
   "cell_type": "code",
   "execution_count": 23,
   "id": "e0c1831e",
   "metadata": {},
   "outputs": [],
   "source": [
    "import pyspark.sql.functions as F\n",
    "pickup_null = taxi_fare_df.where(F.col('tpep_pickup_datetime').isNull())"
   ]
  },
  {
   "cell_type": "code",
   "execution_count": 28,
   "id": "21e3144d",
   "metadata": {},
   "outputs": [
    {
     "name": "stderr",
     "output_type": "stream",
     "text": [
      "                                                                                \r"
     ]
    },
    {
     "data": {
      "text/plain": [
       "241864"
      ]
     },
     "execution_count": 28,
     "metadata": {},
     "output_type": "execute_result"
    }
   ],
   "source": [
    "pickup_null.count()"
   ]
  },
  {
   "cell_type": "code",
   "execution_count": 6,
   "id": "bacbb880",
   "metadata": {},
   "outputs": [],
   "source": [
    "taxi_fare_filtered = taxi_fare_df.where(F.col('tpep_pickup_datetime').isNotNull())"
   ]
  },
  {
   "cell_type": "code",
   "execution_count": 30,
   "id": "d94fbdbf",
   "metadata": {},
   "outputs": [],
   "source": [
    "# Trying Spark SQL\n",
    "taxi_fare_df.createOrReplaceTempView(\"TAXI\")"
   ]
  },
  {
   "cell_type": "code",
   "execution_count": 32,
   "id": "9d375994",
   "metadata": {},
   "outputs": [
    {
     "name": "stdout",
     "output_type": "stream",
     "text": [
      "+--------+--------------------+---------------------+---------------+-------------+----------+------------------+------------+------------+------------+-----------+-----+-------+----------+------------+---------------------+------------+--------------------+\n",
      "|VendorID|tpep_pickup_datetime|tpep_dropoff_datetime|passenger_count|trip_distance|RatecodeID|store_and_fwd_flag|PULocationID|DOLocationID|payment_type|fare_amount|extra|mta_tax|tip_amount|tolls_amount|improvement_surcharge|total_amount|congestion_surcharge|\n",
      "+--------+--------------------+---------------------+---------------+-------------+----------+------------------+------------+------------+------------+-----------+-----+-------+----------+------------+---------------------+------------+--------------------+\n",
      "|       1| 2019-01-01 00:46:40|  2019-01-01 00:53:20|              1|         1.50|         1|                 N|         151|         239|           1|          7|  0.5|    0.5|      1.65|           0|                  0.3|        9.95|                null|\n",
      "|       1| 2019-01-01 00:59:47|  2019-01-01 01:18:59|              1|         2.60|         1|                 N|         239|         246|           1|         14|  0.5|    0.5|         1|           0|                  0.3|        16.3|                null|\n",
      "|       2| 2018-12-21 13:48:30|  2018-12-21 13:52:40|              3|          .00|         1|                 N|         236|         236|           1|        4.5|  0.5|    0.5|         0|           0|                  0.3|         5.8|                null|\n",
      "|       2| 2018-11-28 15:52:25|  2018-11-28 15:55:45|              5|          .00|         1|                 N|         193|         193|           2|        3.5|  0.5|    0.5|         0|           0|                  0.3|        7.55|                null|\n",
      "|       2| 2018-11-28 15:56:57|  2018-11-28 15:58:33|              5|          .00|         2|                 N|         193|         193|           2|         52|    0|    0.5|         0|           0|                  0.3|       55.55|                null|\n",
      "|       2| 2018-11-28 16:25:49|  2018-11-28 16:28:26|              5|          .00|         1|                 N|         193|         193|           2|        3.5|  0.5|    0.5|         0|        5.76|                  0.3|       13.31|                null|\n",
      "|       2| 2018-11-28 16:29:37|  2018-11-28 16:33:43|              5|          .00|         2|                 N|         193|         193|           2|         52|    0|    0.5|         0|           0|                  0.3|       55.55|                null|\n",
      "|       1| 2019-01-01 00:21:28|  2019-01-01 00:28:37|              1|         1.30|         1|                 N|         163|         229|           1|        6.5|  0.5|    0.5|      1.25|           0|                  0.3|        9.05|                null|\n",
      "|       1| 2019-01-01 00:32:01|  2019-01-01 00:45:39|              1|         3.70|         1|                 N|         229|           7|           1|       13.5|  0.5|    0.5|       3.7|           0|                  0.3|        18.5|                null|\n",
      "|       1| 2019-01-01 00:57:32|  2019-01-01 01:09:32|              2|         2.10|         1|                 N|         141|         234|           1|         10|  0.5|    0.5|       1.7|           0|                  0.3|          13|                null|\n",
      "|       1| 2019-01-01 00:24:04|  2019-01-01 00:47:06|              2|         2.80|         1|                 N|         246|         162|           1|         15|  0.5|    0.5|      3.25|           0|                  0.3|       19.55|                null|\n",
      "|       1| 2019-01-01 00:21:59|  2019-01-01 00:28:24|              1|          .70|         1|                 N|         238|         151|           1|        5.5|  0.5|    0.5|       1.7|           0|                  0.3|         8.5|                null|\n",
      "|       1| 2019-01-01 00:45:21|  2019-01-01 01:31:05|              1|         8.70|         1|                 N|         163|          25|           1|       34.5|  0.5|    0.5|      7.15|           0|                  0.3|       42.95|                null|\n",
      "|       1| 2019-01-01 00:43:19|  2019-01-01 01:07:42|              1|         6.30|         1|                 N|         224|          25|           1|       21.5|  0.5|    0.5|       5.7|           0|                  0.3|        28.5|                null|\n",
      "|       1| 2019-01-01 00:58:24|  2019-01-01 01:15:18|              1|         2.70|         1|                 N|         141|         234|           1|         13|  0.5|    0.5|         1|           0|                  0.3|        15.3|                null|\n",
      "|       2| 2019-01-01 00:23:14|  2019-01-01 00:25:40|              1|          .38|         1|                 N|         170|         170|           2|        3.5|  0.5|    0.5|         0|           0|                  0.3|         4.8|                null|\n",
      "|       2| 2019-01-01 00:39:51|  2019-01-01 00:48:02|              1|          .55|         1|                 N|         170|         170|           1|        6.5|  0.5|    0.5|      1.95|           0|                  0.3|        9.75|                null|\n",
      "|       2| 2019-01-01 00:46:00|  2019-01-01 00:49:07|              1|          .30|         1|                 N|         107|         107|           1|          4|  0.5|    0.5|      1.06|           0|                  0.3|        6.36|                null|\n",
      "|       2| 2019-01-01 00:57:45|  2019-01-01 01:03:51|              1|         1.42|         1|                 N|         170|         141|           1|        6.5|  0.5|    0.5|      1.56|           0|                  0.3|        9.36|                null|\n",
      "|       2| 2019-01-01 00:16:16|  2019-01-01 00:25:57|              1|         1.72|         1|                 N|          41|         247|           2|          9|  0.5|    0.5|         0|           0|                  0.3|        10.3|                null|\n",
      "+--------+--------------------+---------------------+---------------+-------------+----------+------------------+------------+------------+------------+-----------+-----+-------+----------+------------+---------------------+------------+--------------------+\n",
      "only showing top 20 rows\n",
      "\n"
     ]
    }
   ],
   "source": [
    "spark.sql(\"SELECT * FROM TAXI where tpep_pickup_datetime IS NOT NULL\").show()"
   ]
  },
  {
   "cell_type": "code",
   "execution_count": 34,
   "id": "3eb338cd",
   "metadata": {},
   "outputs": [
    {
     "name": "stdout",
     "output_type": "stream",
     "text": [
      "+--------+--------------------+---------------------+---------------+-------------+----------+------------------+------------+------------+------------+-----------+-----+-------+----------+------------+---------------------+------------+--------------------+\n",
      "|VendorID|tpep_pickup_datetime|tpep_dropoff_datetime|passenger_count|trip_distance|RatecodeID|store_and_fwd_flag|PULocationID|DOLocationID|payment_type|fare_amount|extra|mta_tax|tip_amount|tolls_amount|improvement_surcharge|total_amount|congestion_surcharge|\n",
      "+--------+--------------------+---------------------+---------------+-------------+----------+------------------+------------+------------+------------+-----------+-----+-------+----------+------------+---------------------+------------+--------------------+\n",
      "|       1| 2019-01-01 00:46:40|  2019-01-01 00:53:20|              1|         1.50|         1|                 N|         151|         239|           1|          7|  0.5|    0.5|      1.65|           0|                  0.3|        9.95|                null|\n",
      "|       1| 2019-01-01 00:59:47|  2019-01-01 01:18:59|              1|         2.60|         1|                 N|         239|         246|           1|         14|  0.5|    0.5|         1|           0|                  0.3|        16.3|                null|\n",
      "|       2| 2018-12-21 13:48:30|  2018-12-21 13:52:40|              3|          .00|         1|                 N|         236|         236|           1|        4.5|  0.5|    0.5|         0|           0|                  0.3|         5.8|                null|\n",
      "|       2| 2018-11-28 15:52:25|  2018-11-28 15:55:45|              5|          .00|         1|                 N|         193|         193|           2|        3.5|  0.5|    0.5|         0|           0|                  0.3|        7.55|                null|\n",
      "|       2| 2018-11-28 15:56:57|  2018-11-28 15:58:33|              5|          .00|         2|                 N|         193|         193|           2|         52|    0|    0.5|         0|           0|                  0.3|       55.55|                null|\n",
      "|       2| 2018-11-28 16:25:49|  2018-11-28 16:28:26|              5|          .00|         1|                 N|         193|         193|           2|        3.5|  0.5|    0.5|         0|        5.76|                  0.3|       13.31|                null|\n",
      "|       2| 2018-11-28 16:29:37|  2018-11-28 16:33:43|              5|          .00|         2|                 N|         193|         193|           2|         52|    0|    0.5|         0|           0|                  0.3|       55.55|                null|\n",
      "|       1| 2019-01-01 00:21:28|  2019-01-01 00:28:37|              1|         1.30|         1|                 N|         163|         229|           1|        6.5|  0.5|    0.5|      1.25|           0|                  0.3|        9.05|                null|\n",
      "|       1| 2019-01-01 00:32:01|  2019-01-01 00:45:39|              1|         3.70|         1|                 N|         229|           7|           1|       13.5|  0.5|    0.5|       3.7|           0|                  0.3|        18.5|                null|\n",
      "|       1| 2019-01-01 00:57:32|  2019-01-01 01:09:32|              2|         2.10|         1|                 N|         141|         234|           1|         10|  0.5|    0.5|       1.7|           0|                  0.3|          13|                null|\n",
      "|       1| 2019-01-01 00:24:04|  2019-01-01 00:47:06|              2|         2.80|         1|                 N|         246|         162|           1|         15|  0.5|    0.5|      3.25|           0|                  0.3|       19.55|                null|\n",
      "|       1| 2019-01-01 00:21:59|  2019-01-01 00:28:24|              1|          .70|         1|                 N|         238|         151|           1|        5.5|  0.5|    0.5|       1.7|           0|                  0.3|         8.5|                null|\n",
      "|       1| 2019-01-01 00:45:21|  2019-01-01 01:31:05|              1|         8.70|         1|                 N|         163|          25|           1|       34.5|  0.5|    0.5|      7.15|           0|                  0.3|       42.95|                null|\n",
      "|       1| 2019-01-01 00:43:19|  2019-01-01 01:07:42|              1|         6.30|         1|                 N|         224|          25|           1|       21.5|  0.5|    0.5|       5.7|           0|                  0.3|        28.5|                null|\n",
      "|       1| 2019-01-01 00:58:24|  2019-01-01 01:15:18|              1|         2.70|         1|                 N|         141|         234|           1|         13|  0.5|    0.5|         1|           0|                  0.3|        15.3|                null|\n",
      "|       2| 2019-01-01 00:23:14|  2019-01-01 00:25:40|              1|          .38|         1|                 N|         170|         170|           2|        3.5|  0.5|    0.5|         0|           0|                  0.3|         4.8|                null|\n",
      "|       2| 2019-01-01 00:39:51|  2019-01-01 00:48:02|              1|          .55|         1|                 N|         170|         170|           1|        6.5|  0.5|    0.5|      1.95|           0|                  0.3|        9.75|                null|\n",
      "|       2| 2019-01-01 00:46:00|  2019-01-01 00:49:07|              1|          .30|         1|                 N|         107|         107|           1|          4|  0.5|    0.5|      1.06|           0|                  0.3|        6.36|                null|\n",
      "|       2| 2019-01-01 00:57:45|  2019-01-01 01:03:51|              1|         1.42|         1|                 N|         170|         141|           1|        6.5|  0.5|    0.5|      1.56|           0|                  0.3|        9.36|                null|\n",
      "|       2| 2019-01-01 00:16:16|  2019-01-01 00:25:57|              1|         1.72|         1|                 N|          41|         247|           2|          9|  0.5|    0.5|         0|           0|                  0.3|        10.3|                null|\n",
      "+--------+--------------------+---------------------+---------------+-------------+----------+------------------+------------+------------+------------+-----------+-----+-------+----------+------------+---------------------+------------+--------------------+\n",
      "only showing top 20 rows\n",
      "\n"
     ]
    }
   ],
   "source": []
  },
  {
   "cell_type": "code",
   "execution_count": 39,
   "id": "94917c61",
   "metadata": {},
   "outputs": [
    {
     "data": {
      "text/plain": [
       "'2019-01'"
      ]
     },
     "execution_count": 39,
     "metadata": {},
     "output_type": "execute_result"
    }
   ],
   "source": [
    "from dateutil import parser\n",
    "\n",
    "parser.parse(taxi_fare_df.first().tpep_pickup_datetime).strftime(\"%Y-%m\")"
   ]
  },
  {
   "cell_type": "code",
   "execution_count": 8,
   "id": "3b00a919",
   "metadata": {},
   "outputs": [],
   "source": [
    "from dateutil import parser\n",
    "\n",
    "taxi_fare_filtered = taxi_fare_filtered.withColumn(\"month\", F.date_format(F.to_date(F.col(\"tpep_pickup_datetime\")), \"yyyy-MM\"))"
   ]
  },
  {
   "cell_type": "code",
   "execution_count": 9,
   "id": "1781ebe0",
   "metadata": {},
   "outputs": [
    {
     "name": "stdout",
     "output_type": "stream",
     "text": [
      "+--------+--------------------+---------------------+---------------+-------------+----------+------------------+------------+------------+------------+-----------+-----+-------+----------+------------+---------------------+------------+--------------------+-------+\n",
      "|VendorID|tpep_pickup_datetime|tpep_dropoff_datetime|passenger_count|trip_distance|RatecodeID|store_and_fwd_flag|PULocationID|DOLocationID|payment_type|fare_amount|extra|mta_tax|tip_amount|tolls_amount|improvement_surcharge|total_amount|congestion_surcharge|  month|\n",
      "+--------+--------------------+---------------------+---------------+-------------+----------+------------------+------------+------------+------------+-----------+-----+-------+----------+------------+---------------------+------------+--------------------+-------+\n",
      "|       1| 2019-01-01 00:46:40|  2019-01-01 00:53:20|              1|         1.50|         1|                 N|         151|         239|           1|          7|  0.5|    0.5|      1.65|           0|                  0.3|        9.95|                null|2019-01|\n",
      "|       1| 2019-01-01 00:59:47|  2019-01-01 01:18:59|              1|         2.60|         1|                 N|         239|         246|           1|         14|  0.5|    0.5|         1|           0|                  0.3|        16.3|                null|2019-01|\n",
      "|       2| 2018-12-21 13:48:30|  2018-12-21 13:52:40|              3|          .00|         1|                 N|         236|         236|           1|        4.5|  0.5|    0.5|         0|           0|                  0.3|         5.8|                null|2018-12|\n",
      "|       2| 2018-11-28 15:52:25|  2018-11-28 15:55:45|              5|          .00|         1|                 N|         193|         193|           2|        3.5|  0.5|    0.5|         0|           0|                  0.3|        7.55|                null|2018-11|\n",
      "|       2| 2018-11-28 15:56:57|  2018-11-28 15:58:33|              5|          .00|         2|                 N|         193|         193|           2|         52|    0|    0.5|         0|           0|                  0.3|       55.55|                null|2018-11|\n",
      "|       2| 2018-11-28 16:25:49|  2018-11-28 16:28:26|              5|          .00|         1|                 N|         193|         193|           2|        3.5|  0.5|    0.5|         0|        5.76|                  0.3|       13.31|                null|2018-11|\n",
      "|       2| 2018-11-28 16:29:37|  2018-11-28 16:33:43|              5|          .00|         2|                 N|         193|         193|           2|         52|    0|    0.5|         0|           0|                  0.3|       55.55|                null|2018-11|\n",
      "|       1| 2019-01-01 00:21:28|  2019-01-01 00:28:37|              1|         1.30|         1|                 N|         163|         229|           1|        6.5|  0.5|    0.5|      1.25|           0|                  0.3|        9.05|                null|2019-01|\n",
      "|       1| 2019-01-01 00:32:01|  2019-01-01 00:45:39|              1|         3.70|         1|                 N|         229|           7|           1|       13.5|  0.5|    0.5|       3.7|           0|                  0.3|        18.5|                null|2019-01|\n",
      "|       1| 2019-01-01 00:57:32|  2019-01-01 01:09:32|              2|         2.10|         1|                 N|         141|         234|           1|         10|  0.5|    0.5|       1.7|           0|                  0.3|          13|                null|2019-01|\n",
      "|       1| 2019-01-01 00:24:04|  2019-01-01 00:47:06|              2|         2.80|         1|                 N|         246|         162|           1|         15|  0.5|    0.5|      3.25|           0|                  0.3|       19.55|                null|2019-01|\n",
      "|       1| 2019-01-01 00:21:59|  2019-01-01 00:28:24|              1|          .70|         1|                 N|         238|         151|           1|        5.5|  0.5|    0.5|       1.7|           0|                  0.3|         8.5|                null|2019-01|\n",
      "|       1| 2019-01-01 00:45:21|  2019-01-01 01:31:05|              1|         8.70|         1|                 N|         163|          25|           1|       34.5|  0.5|    0.5|      7.15|           0|                  0.3|       42.95|                null|2019-01|\n",
      "|       1| 2019-01-01 00:43:19|  2019-01-01 01:07:42|              1|         6.30|         1|                 N|         224|          25|           1|       21.5|  0.5|    0.5|       5.7|           0|                  0.3|        28.5|                null|2019-01|\n",
      "|       1| 2019-01-01 00:58:24|  2019-01-01 01:15:18|              1|         2.70|         1|                 N|         141|         234|           1|         13|  0.5|    0.5|         1|           0|                  0.3|        15.3|                null|2019-01|\n",
      "|       2| 2019-01-01 00:23:14|  2019-01-01 00:25:40|              1|          .38|         1|                 N|         170|         170|           2|        3.5|  0.5|    0.5|         0|           0|                  0.3|         4.8|                null|2019-01|\n",
      "|       2| 2019-01-01 00:39:51|  2019-01-01 00:48:02|              1|          .55|         1|                 N|         170|         170|           1|        6.5|  0.5|    0.5|      1.95|           0|                  0.3|        9.75|                null|2019-01|\n",
      "|       2| 2019-01-01 00:46:00|  2019-01-01 00:49:07|              1|          .30|         1|                 N|         107|         107|           1|          4|  0.5|    0.5|      1.06|           0|                  0.3|        6.36|                null|2019-01|\n",
      "|       2| 2019-01-01 00:57:45|  2019-01-01 01:03:51|              1|         1.42|         1|                 N|         170|         141|           1|        6.5|  0.5|    0.5|      1.56|           0|                  0.3|        9.36|                null|2019-01|\n",
      "|       2| 2019-01-01 00:16:16|  2019-01-01 00:25:57|              1|         1.72|         1|                 N|          41|         247|           2|          9|  0.5|    0.5|         0|           0|                  0.3|        10.3|                null|2019-01|\n",
      "+--------+--------------------+---------------------+---------------+-------------+----------+------------------+------------+------------+------------+-----------+-----+-------+----------+------------+---------------------+------------+--------------------+-------+\n",
      "only showing top 20 rows\n",
      "\n"
     ]
    }
   ],
   "source": [
    "taxi_fare_filtered.show()"
   ]
  },
  {
   "cell_type": "code",
   "execution_count": 10,
   "id": "529ee48d",
   "metadata": {},
   "outputs": [],
   "source": [
    "taxi_fare_grouped = taxi_fare_filtered.groupBy(\"month\").count()"
   ]
  },
  {
   "cell_type": "code",
   "execution_count": 11,
   "id": "73394a9f",
   "metadata": {},
   "outputs": [
    {
     "name": "stderr",
     "output_type": "stream",
     "text": [
      "[Stage 6:========================================================>(85 + 1) / 86]\r"
     ]
    },
    {
     "name": "stdout",
     "output_type": "stream",
     "text": [
      "+-------+-------+\n",
      "|  month|  count|\n",
      "+-------+-------+\n",
      "|2009-01|    603|\n",
      "|2003-01|      8|\n",
      "|2019-01|7667565|\n",
      "|2008-12|    257|\n",
      "|2018-11|     11|\n",
      "|2018-12|    355|\n",
      "|2019-02|7019184|\n",
      "|2019-03|7832324|\n",
      "|2019-07|6310376|\n",
      "|2019-05|7565360|\n",
      "|2019-08|6073089|\n",
      "|2019-09|6567628|\n",
      "|2019-06|6940798|\n",
      "|2019-04|7433149|\n",
      "|2001-02|      1|\n",
      "|2088-01|      2|\n",
      "|2038-02|      4|\n",
      "|2002-12|      4|\n",
      "|2041-03|      1|\n",
      "|2008-08|      3|\n",
      "|2033-04|      3|\n",
      "|2019-10|7214110|\n",
      "|2019-11|6877811|\n",
      "|2001-01|      2|\n",
      "|2020-01|6405286|\n",
      "|2019-12|6896314|\n",
      "|2002-02|     11|\n",
      "|2010-08|      1|\n",
      "|2020-02|6299567|\n",
      "|2020-04| 237922|\n",
      "|2020-06| 549794|\n",
      "|2020-05| 348403|\n",
      "|2020-07| 800437|\n",
      "|2020-03|3006988|\n",
      "|2015-11|      1|\n",
      "|2029-11|      4|\n",
      "|2058-12|      3|\n",
      "|2090-12|      1|\n",
      "|2066-12|      1|\n",
      "|2026-12|      1|\n",
      "|2021-01|1369760|\n",
      "|2020-08|1007282|\n",
      "|2020-11|1508900|\n",
      "|2020-09|1340892|\n",
      "|2020-10|1681266|\n",
      "|2020-12|1461926|\n",
      "|2021-02|1371695|\n",
      "|2021-04|2171218|\n",
      "|2021-06|2834205|\n",
      "|2021-05|2507077|\n",
      "|2003-03|      1|\n",
      "|2021-03|1925130|\n",
      "|2021-07|2821430|\n",
      "|2021-11|      5|\n",
      "|2021-10|      3|\n",
      "|2021-12|      5|\n",
      "|2021-08|     36|\n",
      "|2021-09|      3|\n",
      "|2029-05|      1|\n",
      "|2004-04|      1|\n",
      "+-------+-------+\n",
      "\n"
     ]
    },
    {
     "name": "stderr",
     "output_type": "stream",
     "text": [
      "\r",
      "                                                                                \r"
     ]
    }
   ],
   "source": [
    "taxi_fare_grouped.show(100)"
   ]
  },
  {
   "cell_type": "code",
   "execution_count": 12,
   "id": "c3413df5",
   "metadata": {},
   "outputs": [
    {
     "data": {
      "text/plain": [
       "['2019-01',\n",
       " '2019-02',\n",
       " '2019-03',\n",
       " '2019-04',\n",
       " '2019-05',\n",
       " '2019-06',\n",
       " '2019-07',\n",
       " '2019-08',\n",
       " '2019-09',\n",
       " '2019-10',\n",
       " '2019-11',\n",
       " '2019-12',\n",
       " '2020-01',\n",
       " '2020-02',\n",
       " '2020-03',\n",
       " '2020-04',\n",
       " '2020-05',\n",
       " '2020-06',\n",
       " '2020-07',\n",
       " '2020-08',\n",
       " '2020-09',\n",
       " '2020-10',\n",
       " '2020-11',\n",
       " '2020-12',\n",
       " '2021-01',\n",
       " '2021-02',\n",
       " '2021-03',\n",
       " '2021-04',\n",
       " '2021-05',\n",
       " '2021-06',\n",
       " '2021-07']"
      ]
     },
     "execution_count": 12,
     "metadata": {},
     "output_type": "execute_result"
    }
   ],
   "source": [
    "from datetime import datetime\n",
    "from dateutil.rrule import rrule, MONTHLY\n",
    "\n",
    "def months(start_month, start_year, end_month, end_year):\n",
    "    start = datetime(start_year, start_month, 1)\n",
    "    end = datetime(end_year, end_month, 1)\n",
    "    return [(str(d.month).rjust(2, '0'), d.year) for d in rrule(MONTHLY, dtstart=start, until=end)]\n",
    "\n",
    "months_in_dataset = months(1, 2019, 7, 2021)\n",
    "\n",
    "months_in_dataset = [f\"{year}-{month}\" for month, year in months_in_dataset]\n",
    "months_in_dataset"
   ]
  },
  {
   "cell_type": "code",
   "execution_count": 13,
   "id": "3fe554ba",
   "metadata": {
    "scrolled": true
   },
   "outputs": [],
   "source": [
    "taxi_fare_filtered_remove_bad_dates = taxi_fare_filtered.filter(taxi_fare_filtered.month.isin(months_in_dataset))"
   ]
  },
  {
   "cell_type": "code",
   "execution_count": 75,
   "id": "4a0d861b",
   "metadata": {},
   "outputs": [
    {
     "name": "stdout",
     "output_type": "stream",
     "text": [
      "+--------+--------------------+---------------------+---------------+-------------+----------+------------------+------------+------------+------------+-----------+-----+-------+----------+------------+---------------------+------------+--------------------+-------+\n",
      "|VendorID|tpep_pickup_datetime|tpep_dropoff_datetime|passenger_count|trip_distance|RatecodeID|store_and_fwd_flag|PULocationID|DOLocationID|payment_type|fare_amount|extra|mta_tax|tip_amount|tolls_amount|improvement_surcharge|total_amount|congestion_surcharge|  month|\n",
      "+--------+--------------------+---------------------+---------------+-------------+----------+------------------+------------+------------+------------+-----------+-----+-------+----------+------------+---------------------+------------+--------------------+-------+\n",
      "|       1| 2019-01-01 00:46:40|  2019-01-01 00:53:20|              1|         1.50|         1|                 N|         151|         239|           1|          7|  0.5|    0.5|      1.65|           0|                  0.3|        9.95|                null|2019-01|\n",
      "|       1| 2019-01-01 00:59:47|  2019-01-01 01:18:59|              1|         2.60|         1|                 N|         239|         246|           1|         14|  0.5|    0.5|         1|           0|                  0.3|        16.3|                null|2019-01|\n",
      "|       1| 2019-01-01 00:21:28|  2019-01-01 00:28:37|              1|         1.30|         1|                 N|         163|         229|           1|        6.5|  0.5|    0.5|      1.25|           0|                  0.3|        9.05|                null|2019-01|\n",
      "|       1| 2019-01-01 00:32:01|  2019-01-01 00:45:39|              1|         3.70|         1|                 N|         229|           7|           1|       13.5|  0.5|    0.5|       3.7|           0|                  0.3|        18.5|                null|2019-01|\n",
      "|       1| 2019-01-01 00:57:32|  2019-01-01 01:09:32|              2|         2.10|         1|                 N|         141|         234|           1|         10|  0.5|    0.5|       1.7|           0|                  0.3|          13|                null|2019-01|\n",
      "|       1| 2019-01-01 00:24:04|  2019-01-01 00:47:06|              2|         2.80|         1|                 N|         246|         162|           1|         15|  0.5|    0.5|      3.25|           0|                  0.3|       19.55|                null|2019-01|\n",
      "|       1| 2019-01-01 00:21:59|  2019-01-01 00:28:24|              1|          .70|         1|                 N|         238|         151|           1|        5.5|  0.5|    0.5|       1.7|           0|                  0.3|         8.5|                null|2019-01|\n",
      "|       1| 2019-01-01 00:45:21|  2019-01-01 01:31:05|              1|         8.70|         1|                 N|         163|          25|           1|       34.5|  0.5|    0.5|      7.15|           0|                  0.3|       42.95|                null|2019-01|\n",
      "|       1| 2019-01-01 00:43:19|  2019-01-01 01:07:42|              1|         6.30|         1|                 N|         224|          25|           1|       21.5|  0.5|    0.5|       5.7|           0|                  0.3|        28.5|                null|2019-01|\n",
      "|       1| 2019-01-01 00:58:24|  2019-01-01 01:15:18|              1|         2.70|         1|                 N|         141|         234|           1|         13|  0.5|    0.5|         1|           0|                  0.3|        15.3|                null|2019-01|\n",
      "|       2| 2019-01-01 00:23:14|  2019-01-01 00:25:40|              1|          .38|         1|                 N|         170|         170|           2|        3.5|  0.5|    0.5|         0|           0|                  0.3|         4.8|                null|2019-01|\n",
      "|       2| 2019-01-01 00:39:51|  2019-01-01 00:48:02|              1|          .55|         1|                 N|         170|         170|           1|        6.5|  0.5|    0.5|      1.95|           0|                  0.3|        9.75|                null|2019-01|\n",
      "|       2| 2019-01-01 00:46:00|  2019-01-01 00:49:07|              1|          .30|         1|                 N|         107|         107|           1|          4|  0.5|    0.5|      1.06|           0|                  0.3|        6.36|                null|2019-01|\n",
      "|       2| 2019-01-01 00:57:45|  2019-01-01 01:03:51|              1|         1.42|         1|                 N|         170|         141|           1|        6.5|  0.5|    0.5|      1.56|           0|                  0.3|        9.36|                null|2019-01|\n",
      "|       2| 2019-01-01 00:16:16|  2019-01-01 00:25:57|              1|         1.72|         1|                 N|          41|         247|           2|          9|  0.5|    0.5|         0|           0|                  0.3|        10.3|                null|2019-01|\n",
      "|       2| 2019-01-01 00:46:43|  2019-01-01 00:47:02|              1|          .06|         1|                 N|         116|          42|           2|        2.5|  0.5|    0.5|         0|           0|                  0.3|         3.8|                null|2019-01|\n",
      "|       1| 2019-01-01 00:48:01|  2019-01-01 01:00:23|              1|         1.50|         1|                 N|         113|          90|           2|        7.5|  0.5|    0.5|         0|           0|                  0.3|         8.8|                null|2019-01|\n",
      "|       1| 2019-01-01 00:55:27|  2019-01-01 01:11:50|              1|         1.20|         1|                 N|         161|         170|           1|       10.5|  0.5|    0.5|      2.95|           0|                  0.3|       14.75|                null|2019-01|\n",
      "|       1| 2019-01-01 00:19:55|  2019-01-01 00:57:56|              1|        12.30|         1|                 N|         138|          50|           1|         38|  0.5|    0.5|         4|        5.76|                  0.3|       49.06|                null|2019-01|\n",
      "|       1| 2019-01-01 00:13:53|  2019-01-01 00:22:11|              1|         1.30|         1|                 N|         144|         261|           2|        7.5|  0.5|    0.5|         0|           0|                  0.3|         8.8|                null|2019-01|\n",
      "|       1| 2019-01-01 00:26:21|  2019-01-01 00:39:39|              1|         1.90|         1|                 N|         231|          79|           1|       10.5|  0.5|    0.5|         2|           0|                  0.3|        13.8|                null|2019-01|\n",
      "|       1| 2019-01-01 00:50:06|  2019-01-01 01:11:36|              1|         4.60|         1|                 N|         107|         181|           2|         19|  0.5|    0.5|         0|           0|                  0.3|        20.3|                null|2019-01|\n",
      "|       1| 2019-01-01 00:17:00|  2019-01-01 00:22:39|              3|          .60|         1|                 N|         161|         229|           1|        5.5|  0.5|    0.5|      1.35|           0|                  0.3|        8.15|                null|2019-01|\n",
      "|       1| 2019-01-01 00:32:59|  2019-01-01 00:32:59|              3|          .00|         1|                 Y|         237|         264|           2|        6.5|  0.5|    0.5|         0|           0|                  0.3|         7.8|                null|2019-01|\n",
      "|       1| 2019-01-01 00:43:19|  2019-01-01 00:58:09|              2|         3.00|         1|                 N|         263|         107|           1|         12|  0.5|    0.5|      2.65|           0|                  0.3|       15.95|                null|2019-01|\n",
      "|       2| 2019-01-01 00:52:37|  2019-01-01 01:03:42|              1|         2.10|         1|                 N|         151|         142|           2|        9.5|  0.5|    0.5|         0|           0|                  0.3|        10.8|                null|2019-01|\n",
      "|       2| 2019-01-01 00:11:45|  2019-01-01 00:40:51|              1|         6.57|         1|                 N|         231|         238|           1|         24|  0.5|    0.5|      5.06|           0|                  0.3|       30.36|                null|2019-01|\n",
      "|       2| 2019-01-01 00:43:28|  2019-01-01 00:49:42|              1|         1.03|         2|                 N|         238|         239|           2|         52|    0|    0.5|         0|           0|                  0.3|        52.8|                null|2019-01|\n",
      "|       2| 2019-01-01 00:08:20|  2019-01-01 00:41:51|              2|        19.13|         2|                 N|         132|         238|           1|         52|    0|    0.5|     11.71|        5.76|                  0.3|       70.27|                null|2019-01|\n",
      "|       2| 2019-01-01 00:47:21|  2019-01-01 00:53:34|              2|         1.43|         1|                 N|         239|         236|           2|          7|  0.5|    0.5|         0|           0|                  0.3|         8.3|                null|2019-01|\n",
      "|       1| 2019-01-01 00:17:49|  2019-01-01 00:30:37|              1|         4.20|         1|                 N|         264|         229|           1|         15|  0.5|    0.5|      3.25|           0|                  0.3|       19.55|                null|2019-01|\n",
      "|       1| 2019-01-01 00:41:07|  2019-01-01 01:51:53|              1|        11.20|         1|                 N|         141|          83|           2|       46.5|  0.5|    0.5|         0|           0|                  0.3|        47.8|                null|2019-01|\n",
      "|       1| 2019-01-01 00:15:02|  2019-01-01 00:22:33|              4|         1.50|         1|                 N|         151|         142|           2|          8|  0.5|    0.5|         0|           0|                  0.3|         9.3|                null|2019-01|\n",
      "|       1| 2019-01-01 00:27:26|  2019-01-01 00:39:53|              2|         3.10|         1|                 N|         142|         263|           1|       11.5|  0.5|    0.5|       1.5|           0|                  0.3|        14.3|                null|2019-01|\n",
      "|       1| 2019-01-01 00:42:56|  2019-01-01 00:46:41|              2|          .70|         1|                 N|         263|         140|           2|        4.5|  0.5|    0.5|         0|           0|                  0.3|         5.8|                null|2019-01|\n",
      "|       1| 2019-01-01 00:52:41|  2019-01-01 00:57:31|              2|         1.20|         1|                 N|         229|         141|           2|          6|  0.5|    0.5|         0|           0|                  0.3|         7.3|                null|2019-01|\n",
      "|       1| 2019-01-01 00:37:30|  2019-01-01 00:51:52|              2|         1.30|         1|                 N|         249|         234|           1|         10|  0.5|    0.5|      2.25|           0|                  0.3|       13.55|                null|2019-01|\n",
      "|       1| 2019-01-01 00:56:14|  2019-01-01 01:07:06|              3|         1.70|         1|                 N|         137|         161|           2|          9|  0.5|    0.5|         0|           0|                  0.3|        10.3|                null|2019-01|\n",
      "|       2| 2019-01-01 00:55:26|  2019-01-01 01:30:46|              3|         5.23|         1|                 N|          90|         181|           1|       24.5|  0.5|    0.5|         4|           0|                  0.3|        29.8|                null|2019-01|\n",
      "|       1| 2019-01-01 00:33:40|  2019-01-01 00:39:27|              2|          .80|         1|                 N|         170|         137|           1|        5.5|  0.5|    0.5|         2|           0|                  0.3|         8.8|                null|2019-01|\n",
      "+--------+--------------------+---------------------+---------------+-------------+----------+------------------+------------+------------+------------+-----------+-----+-------+----------+------------+---------------------+------------+--------------------+-------+\n",
      "only showing top 40 rows\n",
      "\n"
     ]
    }
   ],
   "source": []
  },
  {
   "cell_type": "code",
   "execution_count": 14,
   "id": "9198f7ea",
   "metadata": {},
   "outputs": [],
   "source": [
    "taxi_fare_grouped = taxi_fare_filtered_remove_bad_dates.groupBy(\"month\").count()"
   ]
  },
  {
   "cell_type": "code",
   "execution_count": 15,
   "id": "8db4d775",
   "metadata": {},
   "outputs": [
    {
     "name": "stderr",
     "output_type": "stream",
     "text": [
      "[Stage 9:========================================================>(85 + 1) / 86]\r"
     ]
    },
    {
     "name": "stdout",
     "output_type": "stream",
     "text": [
      "+-------+-------+\n",
      "|  month|  count|\n",
      "+-------+-------+\n",
      "|2019-01|7667565|\n",
      "|2019-02|7019184|\n",
      "|2019-03|7832324|\n",
      "|2019-07|6310376|\n",
      "|2019-05|7565360|\n",
      "|2019-08|6073089|\n",
      "|2019-09|6567628|\n",
      "|2019-06|6940798|\n",
      "|2019-04|7433149|\n",
      "|2019-10|7214110|\n",
      "|2019-11|6877811|\n",
      "|2020-01|6405286|\n",
      "|2019-12|6896314|\n",
      "|2020-02|6299567|\n",
      "|2020-04| 237922|\n",
      "|2020-06| 549794|\n",
      "|2020-05| 348403|\n",
      "|2020-07| 800437|\n",
      "|2020-03|3006988|\n",
      "|2021-01|1369760|\n",
      "|2020-08|1007282|\n",
      "|2020-11|1508900|\n",
      "|2020-09|1340892|\n",
      "|2020-10|1681266|\n",
      "|2020-12|1461926|\n",
      "|2021-02|1371695|\n",
      "|2021-04|2171218|\n",
      "|2021-06|2834205|\n",
      "|2021-05|2507077|\n",
      "|2021-03|1925130|\n",
      "|2021-07|2821430|\n",
      "+-------+-------+\n",
      "\n"
     ]
    },
    {
     "name": "stderr",
     "output_type": "stream",
     "text": [
      "\r",
      "                                                                                \r"
     ]
    }
   ],
   "source": [
    "taxi_fare_grouped.show(50)"
   ]
  },
  {
   "cell_type": "code",
   "execution_count": 18,
   "id": "f05c91af",
   "metadata": {},
   "outputs": [],
   "source": [
    "taxi_fare_grouped_df = taxi_fare_grouped.toPandas()"
   ]
  },
  {
   "cell_type": "code",
   "execution_count": 20,
   "id": "07c30a88",
   "metadata": {},
   "outputs": [
    {
     "data": {
      "text/html": [
       "<div>\n",
       "<style scoped>\n",
       "    .dataframe tbody tr th:only-of-type {\n",
       "        vertical-align: middle;\n",
       "    }\n",
       "\n",
       "    .dataframe tbody tr th {\n",
       "        vertical-align: top;\n",
       "    }\n",
       "\n",
       "    .dataframe thead th {\n",
       "        text-align: right;\n",
       "    }\n",
       "</style>\n",
       "<table border=\"1\" class=\"dataframe\">\n",
       "  <thead>\n",
       "    <tr style=\"text-align: right;\">\n",
       "      <th></th>\n",
       "      <th>month</th>\n",
       "      <th>count</th>\n",
       "      <th>month_dt</th>\n",
       "    </tr>\n",
       "  </thead>\n",
       "  <tbody>\n",
       "    <tr>\n",
       "      <th>0</th>\n",
       "      <td>2019-01</td>\n",
       "      <td>7667565</td>\n",
       "      <td>2019-01-01</td>\n",
       "    </tr>\n",
       "    <tr>\n",
       "      <th>1</th>\n",
       "      <td>2019-02</td>\n",
       "      <td>7019184</td>\n",
       "      <td>2019-02-01</td>\n",
       "    </tr>\n",
       "    <tr>\n",
       "      <th>2</th>\n",
       "      <td>2019-03</td>\n",
       "      <td>7832324</td>\n",
       "      <td>2019-03-01</td>\n",
       "    </tr>\n",
       "    <tr>\n",
       "      <th>3</th>\n",
       "      <td>2019-07</td>\n",
       "      <td>6310376</td>\n",
       "      <td>2019-07-01</td>\n",
       "    </tr>\n",
       "    <tr>\n",
       "      <th>4</th>\n",
       "      <td>2019-05</td>\n",
       "      <td>7565360</td>\n",
       "      <td>2019-05-01</td>\n",
       "    </tr>\n",
       "    <tr>\n",
       "      <th>5</th>\n",
       "      <td>2019-08</td>\n",
       "      <td>6073089</td>\n",
       "      <td>2019-08-01</td>\n",
       "    </tr>\n",
       "    <tr>\n",
       "      <th>6</th>\n",
       "      <td>2019-09</td>\n",
       "      <td>6567628</td>\n",
       "      <td>2019-09-01</td>\n",
       "    </tr>\n",
       "    <tr>\n",
       "      <th>7</th>\n",
       "      <td>2019-06</td>\n",
       "      <td>6940798</td>\n",
       "      <td>2019-06-01</td>\n",
       "    </tr>\n",
       "    <tr>\n",
       "      <th>8</th>\n",
       "      <td>2019-04</td>\n",
       "      <td>7433149</td>\n",
       "      <td>2019-04-01</td>\n",
       "    </tr>\n",
       "    <tr>\n",
       "      <th>9</th>\n",
       "      <td>2019-10</td>\n",
       "      <td>7214110</td>\n",
       "      <td>2019-10-01</td>\n",
       "    </tr>\n",
       "    <tr>\n",
       "      <th>10</th>\n",
       "      <td>2019-11</td>\n",
       "      <td>6877811</td>\n",
       "      <td>2019-11-01</td>\n",
       "    </tr>\n",
       "    <tr>\n",
       "      <th>11</th>\n",
       "      <td>2020-01</td>\n",
       "      <td>6405286</td>\n",
       "      <td>2020-01-01</td>\n",
       "    </tr>\n",
       "    <tr>\n",
       "      <th>12</th>\n",
       "      <td>2019-12</td>\n",
       "      <td>6896314</td>\n",
       "      <td>2019-12-01</td>\n",
       "    </tr>\n",
       "    <tr>\n",
       "      <th>13</th>\n",
       "      <td>2020-02</td>\n",
       "      <td>6299567</td>\n",
       "      <td>2020-02-01</td>\n",
       "    </tr>\n",
       "    <tr>\n",
       "      <th>14</th>\n",
       "      <td>2020-04</td>\n",
       "      <td>237922</td>\n",
       "      <td>2020-04-01</td>\n",
       "    </tr>\n",
       "    <tr>\n",
       "      <th>15</th>\n",
       "      <td>2020-06</td>\n",
       "      <td>549794</td>\n",
       "      <td>2020-06-01</td>\n",
       "    </tr>\n",
       "    <tr>\n",
       "      <th>16</th>\n",
       "      <td>2020-05</td>\n",
       "      <td>348403</td>\n",
       "      <td>2020-05-01</td>\n",
       "    </tr>\n",
       "    <tr>\n",
       "      <th>17</th>\n",
       "      <td>2020-07</td>\n",
       "      <td>800437</td>\n",
       "      <td>2020-07-01</td>\n",
       "    </tr>\n",
       "    <tr>\n",
       "      <th>18</th>\n",
       "      <td>2020-03</td>\n",
       "      <td>3006988</td>\n",
       "      <td>2020-03-01</td>\n",
       "    </tr>\n",
       "    <tr>\n",
       "      <th>19</th>\n",
       "      <td>2021-01</td>\n",
       "      <td>1369760</td>\n",
       "      <td>2021-01-01</td>\n",
       "    </tr>\n",
       "    <tr>\n",
       "      <th>20</th>\n",
       "      <td>2020-08</td>\n",
       "      <td>1007282</td>\n",
       "      <td>2020-08-01</td>\n",
       "    </tr>\n",
       "    <tr>\n",
       "      <th>21</th>\n",
       "      <td>2020-11</td>\n",
       "      <td>1508900</td>\n",
       "      <td>2020-11-01</td>\n",
       "    </tr>\n",
       "    <tr>\n",
       "      <th>22</th>\n",
       "      <td>2020-09</td>\n",
       "      <td>1340892</td>\n",
       "      <td>2020-09-01</td>\n",
       "    </tr>\n",
       "    <tr>\n",
       "      <th>23</th>\n",
       "      <td>2020-10</td>\n",
       "      <td>1681266</td>\n",
       "      <td>2020-10-01</td>\n",
       "    </tr>\n",
       "    <tr>\n",
       "      <th>24</th>\n",
       "      <td>2020-12</td>\n",
       "      <td>1461926</td>\n",
       "      <td>2020-12-01</td>\n",
       "    </tr>\n",
       "    <tr>\n",
       "      <th>25</th>\n",
       "      <td>2021-02</td>\n",
       "      <td>1371695</td>\n",
       "      <td>2021-02-01</td>\n",
       "    </tr>\n",
       "    <tr>\n",
       "      <th>26</th>\n",
       "      <td>2021-04</td>\n",
       "      <td>2171218</td>\n",
       "      <td>2021-04-01</td>\n",
       "    </tr>\n",
       "    <tr>\n",
       "      <th>27</th>\n",
       "      <td>2021-06</td>\n",
       "      <td>2834205</td>\n",
       "      <td>2021-06-01</td>\n",
       "    </tr>\n",
       "    <tr>\n",
       "      <th>28</th>\n",
       "      <td>2021-05</td>\n",
       "      <td>2507077</td>\n",
       "      <td>2021-05-01</td>\n",
       "    </tr>\n",
       "    <tr>\n",
       "      <th>29</th>\n",
       "      <td>2021-03</td>\n",
       "      <td>1925130</td>\n",
       "      <td>2021-03-01</td>\n",
       "    </tr>\n",
       "    <tr>\n",
       "      <th>30</th>\n",
       "      <td>2021-07</td>\n",
       "      <td>2821430</td>\n",
       "      <td>2021-07-01</td>\n",
       "    </tr>\n",
       "  </tbody>\n",
       "</table>\n",
       "</div>"
      ],
      "text/plain": [
       "      month    count   month_dt\n",
       "0   2019-01  7667565 2019-01-01\n",
       "1   2019-02  7019184 2019-02-01\n",
       "2   2019-03  7832324 2019-03-01\n",
       "3   2019-07  6310376 2019-07-01\n",
       "4   2019-05  7565360 2019-05-01\n",
       "5   2019-08  6073089 2019-08-01\n",
       "6   2019-09  6567628 2019-09-01\n",
       "7   2019-06  6940798 2019-06-01\n",
       "8   2019-04  7433149 2019-04-01\n",
       "9   2019-10  7214110 2019-10-01\n",
       "10  2019-11  6877811 2019-11-01\n",
       "11  2020-01  6405286 2020-01-01\n",
       "12  2019-12  6896314 2019-12-01\n",
       "13  2020-02  6299567 2020-02-01\n",
       "14  2020-04   237922 2020-04-01\n",
       "15  2020-06   549794 2020-06-01\n",
       "16  2020-05   348403 2020-05-01\n",
       "17  2020-07   800437 2020-07-01\n",
       "18  2020-03  3006988 2020-03-01\n",
       "19  2021-01  1369760 2021-01-01\n",
       "20  2020-08  1007282 2020-08-01\n",
       "21  2020-11  1508900 2020-11-01\n",
       "22  2020-09  1340892 2020-09-01\n",
       "23  2020-10  1681266 2020-10-01\n",
       "24  2020-12  1461926 2020-12-01\n",
       "25  2021-02  1371695 2021-02-01\n",
       "26  2021-04  2171218 2021-04-01\n",
       "27  2021-06  2834205 2021-06-01\n",
       "28  2021-05  2507077 2021-05-01\n",
       "29  2021-03  1925130 2021-03-01\n",
       "30  2021-07  2821430 2021-07-01"
      ]
     },
     "execution_count": 20,
     "metadata": {},
     "output_type": "execute_result"
    }
   ],
   "source": [
    "import matplotlib.pyplot as plt\n",
    "from dateutil import parser\n",
    "import pandas as pd\n",
    "\n",
    "taxi_fare_grouped_df['month_dt'] = pd.to_datetime(taxi_fare_grouped_df[\"month\"])\n",
    "\n",
    "taxi_fare_grouped_df"
   ]
  },
  {
   "cell_type": "code",
   "execution_count": 21,
   "id": "509fdfa9",
   "metadata": {},
   "outputs": [
    {
     "data": {
      "image/png": "[encoded data removed]",
      "text/plain": [
       "<Figure size 1080x720 with 1 Axes>"
      ]
     },
     "metadata": {
      "needs_background": "light"
     },
     "output_type": "display_data"
    }
   ],
   "source": [
    "import matplotlib.pyplot as plt\n",
    "import matplotlib\n",
    "\n",
    "ax = taxi_fare_grouped_df[['month','count']].plot(kind='bar', title =\"Yellow Cab Trips By Month - Jan 2019 - Jul 2021\", figsize=(15, 10), legend=True, fontsize=12)\n",
    "ax.set_xlabel(\"month\", fontsize=12)\n",
    "ax.set_ylabel(\"count\", fontsize=12)\n",
    "ax.get_yaxis().set_major_formatter(matplotlib.ticker.FuncFormatter(lambda x, p: format(int(x), ',')))\n",
    "ax.set_xticklabels(taxi_fare_grouped_df[\"month\"])\n",
    "plt.show()"
   ]
  },
  {
   "cell_type": "code",
   "execution_count": 38,
   "id": "c5e7cc9b",
   "metadata": {},
   "outputs": [],
   "source": [
    "import pyspark.sql.functions as F  \n",
    "\n",
    "taxi_fare_revenue_by_month = taxi_fare_filtered_remove_bad_dates.groupBy(\"month\").agg(F.sum('total_amount').alias(\"revenue\"))\n",
    "\n"
   ]
  },
  {
   "cell_type": "code",
   "execution_count": 40,
   "id": "64f4a11d",
   "metadata": {},
   "outputs": [
    {
     "name": "stderr",
     "output_type": "stream",
     "text": [
      "                                                                                \r"
     ]
    }
   ],
   "source": [
    "taxi_fare_revenue_by_month_df = taxi_fare_revenue_by_month.toPandas()"
   ]
  },
  {
   "cell_type": "code",
   "execution_count": 41,
   "id": "e4b7b478",
   "metadata": {},
   "outputs": [
    {
     "data": {
      "text/html": [
       "<div>\n",
       "<style scoped>\n",
       "    .dataframe tbody tr th:only-of-type {\n",
       "        vertical-align: middle;\n",
       "    }\n",
       "\n",
       "    .dataframe tbody tr th {\n",
       "        vertical-align: top;\n",
       "    }\n",
       "\n",
       "    .dataframe thead th {\n",
       "        text-align: right;\n",
       "    }\n",
       "</style>\n",
       "<table border=\"1\" class=\"dataframe\">\n",
       "  <thead>\n",
       "    <tr style=\"text-align: right;\">\n",
       "      <th></th>\n",
       "      <th>month</th>\n",
       "      <th>revenue</th>\n",
       "      <th>month_dt</th>\n",
       "    </tr>\n",
       "  </thead>\n",
       "  <tbody>\n",
       "    <tr>\n",
       "      <th>0</th>\n",
       "      <td>2019-01</td>\n",
       "      <td>1.202436e+08</td>\n",
       "      <td>2019-01-01</td>\n",
       "    </tr>\n",
       "    <tr>\n",
       "      <th>1</th>\n",
       "      <td>2019-02</td>\n",
       "      <td>1.302561e+08</td>\n",
       "      <td>2019-02-01</td>\n",
       "    </tr>\n",
       "    <tr>\n",
       "      <th>2</th>\n",
       "      <td>2019-03</td>\n",
       "      <td>1.503096e+08</td>\n",
       "      <td>2019-03-01</td>\n",
       "    </tr>\n",
       "    <tr>\n",
       "      <th>3</th>\n",
       "      <td>2019-07</td>\n",
       "      <td>1.237603e+08</td>\n",
       "      <td>2019-07-01</td>\n",
       "    </tr>\n",
       "    <tr>\n",
       "      <th>4</th>\n",
       "      <td>2019-05</td>\n",
       "      <td>1.477678e+08</td>\n",
       "      <td>2019-05-01</td>\n",
       "    </tr>\n",
       "    <tr>\n",
       "      <th>5</th>\n",
       "      <td>2019-08</td>\n",
       "      <td>1.195125e+08</td>\n",
       "      <td>2019-08-01</td>\n",
       "    </tr>\n",
       "    <tr>\n",
       "      <th>6</th>\n",
       "      <td>2019-09</td>\n",
       "      <td>1.308173e+08</td>\n",
       "      <td>2019-09-01</td>\n",
       "    </tr>\n",
       "    <tr>\n",
       "      <th>7</th>\n",
       "      <td>2019-06</td>\n",
       "      <td>1.370206e+08</td>\n",
       "      <td>2019-06-01</td>\n",
       "    </tr>\n",
       "    <tr>\n",
       "      <th>8</th>\n",
       "      <td>2019-04</td>\n",
       "      <td>1.429379e+08</td>\n",
       "      <td>2019-04-01</td>\n",
       "    </tr>\n",
       "    <tr>\n",
       "      <th>9</th>\n",
       "      <td>2019-10</td>\n",
       "      <td>1.424921e+08</td>\n",
       "      <td>2019-10-01</td>\n",
       "    </tr>\n",
       "    <tr>\n",
       "      <th>10</th>\n",
       "      <td>2019-11</td>\n",
       "      <td>1.334796e+08</td>\n",
       "      <td>2019-11-01</td>\n",
       "    </tr>\n",
       "    <tr>\n",
       "      <th>11</th>\n",
       "      <td>2020-01</td>\n",
       "      <td>1.195422e+08</td>\n",
       "      <td>2020-01-01</td>\n",
       "    </tr>\n",
       "    <tr>\n",
       "      <th>12</th>\n",
       "      <td>2019-12</td>\n",
       "      <td>1.354540e+08</td>\n",
       "      <td>2019-12-01</td>\n",
       "    </tr>\n",
       "    <tr>\n",
       "      <th>13</th>\n",
       "      <td>2020-02</td>\n",
       "      <td>1.171162e+08</td>\n",
       "      <td>2020-02-01</td>\n",
       "    </tr>\n",
       "    <tr>\n",
       "      <th>14</th>\n",
       "      <td>2020-04</td>\n",
       "      <td>3.903882e+06</td>\n",
       "      <td>2020-04-01</td>\n",
       "    </tr>\n",
       "    <tr>\n",
       "      <th>15</th>\n",
       "      <td>2020-06</td>\n",
       "      <td>1.031897e+07</td>\n",
       "      <td>2020-06-01</td>\n",
       "    </tr>\n",
       "    <tr>\n",
       "      <th>16</th>\n",
       "      <td>2020-05</td>\n",
       "      <td>6.854650e+06</td>\n",
       "      <td>2020-05-01</td>\n",
       "    </tr>\n",
       "    <tr>\n",
       "      <th>17</th>\n",
       "      <td>2020-07</td>\n",
       "      <td>1.491323e+07</td>\n",
       "      <td>2020-07-01</td>\n",
       "    </tr>\n",
       "    <tr>\n",
       "      <th>18</th>\n",
       "      <td>2020-03</td>\n",
       "      <td>5.665607e+07</td>\n",
       "      <td>2020-03-01</td>\n",
       "    </tr>\n",
       "    <tr>\n",
       "      <th>19</th>\n",
       "      <td>2021-01</td>\n",
       "      <td>2.393572e+07</td>\n",
       "      <td>2021-01-01</td>\n",
       "    </tr>\n",
       "    <tr>\n",
       "      <th>20</th>\n",
       "      <td>2020-08</td>\n",
       "      <td>1.870552e+07</td>\n",
       "      <td>2020-08-01</td>\n",
       "    </tr>\n",
       "    <tr>\n",
       "      <th>21</th>\n",
       "      <td>2020-11</td>\n",
       "      <td>2.633540e+07</td>\n",
       "      <td>2020-11-01</td>\n",
       "    </tr>\n",
       "    <tr>\n",
       "      <th>22</th>\n",
       "      <td>2020-09</td>\n",
       "      <td>2.362857e+07</td>\n",
       "      <td>2020-09-01</td>\n",
       "    </tr>\n",
       "    <tr>\n",
       "      <th>23</th>\n",
       "      <td>2020-10</td>\n",
       "      <td>3.036699e+07</td>\n",
       "      <td>2020-10-01</td>\n",
       "    </tr>\n",
       "    <tr>\n",
       "      <th>24</th>\n",
       "      <td>2020-12</td>\n",
       "      <td>2.572720e+07</td>\n",
       "      <td>2020-12-01</td>\n",
       "    </tr>\n",
       "    <tr>\n",
       "      <th>25</th>\n",
       "      <td>2021-02</td>\n",
       "      <td>2.415237e+07</td>\n",
       "      <td>2021-02-01</td>\n",
       "    </tr>\n",
       "    <tr>\n",
       "      <th>26</th>\n",
       "      <td>2021-04</td>\n",
       "      <td>4.029790e+07</td>\n",
       "      <td>2021-04-01</td>\n",
       "    </tr>\n",
       "    <tr>\n",
       "      <th>27</th>\n",
       "      <td>2021-06</td>\n",
       "      <td>5.501907e+07</td>\n",
       "      <td>2021-06-01</td>\n",
       "    </tr>\n",
       "    <tr>\n",
       "      <th>28</th>\n",
       "      <td>2021-05</td>\n",
       "      <td>4.735562e+07</td>\n",
       "      <td>2021-05-01</td>\n",
       "    </tr>\n",
       "    <tr>\n",
       "      <th>29</th>\n",
       "      <td>2021-03</td>\n",
       "      <td>3.449731e+07</td>\n",
       "      <td>2021-03-01</td>\n",
       "    </tr>\n",
       "    <tr>\n",
       "      <th>30</th>\n",
       "      <td>2021-07</td>\n",
       "      <td>5.608377e+07</td>\n",
       "      <td>2021-07-01</td>\n",
       "    </tr>\n",
       "  </tbody>\n",
       "</table>\n",
       "</div>"
      ],
      "text/plain": [
       "      month       revenue   month_dt\n",
       "0   2019-01  1.202436e+08 2019-01-01\n",
       "1   2019-02  1.302561e+08 2019-02-01\n",
       "2   2019-03  1.503096e+08 2019-03-01\n",
       "3   2019-07  1.237603e+08 2019-07-01\n",
       "4   2019-05  1.477678e+08 2019-05-01\n",
       "5   2019-08  1.195125e+08 2019-08-01\n",
       "6   2019-09  1.308173e+08 2019-09-01\n",
       "7   2019-06  1.370206e+08 2019-06-01\n",
       "8   2019-04  1.429379e+08 2019-04-01\n",
       "9   2019-10  1.424921e+08 2019-10-01\n",
       "10  2019-11  1.334796e+08 2019-11-01\n",
       "11  2020-01  1.195422e+08 2020-01-01\n",
       "12  2019-12  1.354540e+08 2019-12-01\n",
       "13  2020-02  1.171162e+08 2020-02-01\n",
       "14  2020-04  3.903882e+06 2020-04-01\n",
       "15  2020-06  1.031897e+07 2020-06-01\n",
       "16  2020-05  6.854650e+06 2020-05-01\n",
       "17  2020-07  1.491323e+07 2020-07-01\n",
       "18  2020-03  5.665607e+07 2020-03-01\n",
       "19  2021-01  2.393572e+07 2021-01-01\n",
       "20  2020-08  1.870552e+07 2020-08-01\n",
       "21  2020-11  2.633540e+07 2020-11-01\n",
       "22  2020-09  2.362857e+07 2020-09-01\n",
       "23  2020-10  3.036699e+07 2020-10-01\n",
       "24  2020-12  2.572720e+07 2020-12-01\n",
       "25  2021-02  2.415237e+07 2021-02-01\n",
       "26  2021-04  4.029790e+07 2021-04-01\n",
       "27  2021-06  5.501907e+07 2021-06-01\n",
       "28  2021-05  4.735562e+07 2021-05-01\n",
       "29  2021-03  3.449731e+07 2021-03-01\n",
       "30  2021-07  5.608377e+07 2021-07-01"
      ]
     },
     "execution_count": 41,
     "metadata": {},
     "output_type": "execute_result"
    }
   ],
   "source": [
    "import matplotlib.pyplot as plt\n",
    "from dateutil import parser\n",
    "import pandas as pd\n",
    "\n",
    "taxi_fare_revenue_by_month_df['month_dt'] = pd.to_datetime(taxi_fare_revenue_by_month_df[\"month\"])\n",
    "\n",
    "taxi_fare_revenue_by_month_df"
   ]
  },
  {
   "cell_type": "code",
   "execution_count": 43,
   "id": "675d8172",
   "metadata": {},
   "outputs": [
    {
     "data": {
      "image/png": "[encoded data removed]",
      "text/plain": [
       "<Figure size 1080x720 with 1 Axes>"
      ]
     },
     "metadata": {
      "needs_background": "light"
     },
     "output_type": "display_data"
    }
   ],
   "source": [
    "import matplotlib.pyplot as plt\n",
    "import matplotlib\n",
    "\n",
    "ax = taxi_fare_revenue_by_month_df[['month','revenue']].plot(kind='bar', title =\"Yellow Cab Revenue By Month - Jan 2019 - Jul 2021\", figsize=(15, 10), legend=True, fontsize=12)\n",
    "ax.set_xlabel(\"month\", fontsize=12)\n",
    "ax.set_ylabel(\"revenue\", fontsize=12)\n",
    "ax.get_yaxis().set_major_formatter(matplotlib.ticker.FuncFormatter(lambda x, p: format(int(x), ',')))\n",
    "ax.set_xticklabels(taxi_fare_revenue_by_month_df[\"month\"])\n",
    "plt.show()"
   ]
  },
  {
   "cell_type": "code",
   "execution_count": 44,
   "id": "f97bc8cd",
   "metadata": {},
   "outputs": [],
   "source": [
    "taxi_fare_payment_grouped = taxi_fare_filtered_remove_bad_dates.groupBy(\"month\", \"payment_type\").count()"
   ]
  },
  {
   "cell_type": "code",
   "execution_count": 45,
   "id": "6d3b681d",
   "metadata": {},
   "outputs": [
    {
     "name": "stderr",
     "output_type": "stream",
     "text": [
      "                                                                                \r"
     ]
    }
   ],
   "source": [
    "taxi_fare_payment_grouped_df = taxi_fare_payment_grouped.toPandas()"
   ]
  },
  {
   "cell_type": "code",
   "execution_count": 47,
   "id": "2cad7962",
   "metadata": {},
   "outputs": [
    {
     "data": {
      "text/html": [
       "<div>\n",
       "<style scoped>\n",
       "    .dataframe tbody tr th:only-of-type {\n",
       "        vertical-align: middle;\n",
       "    }\n",
       "\n",
       "    .dataframe tbody tr th {\n",
       "        vertical-align: top;\n",
       "    }\n",
       "\n",
       "    .dataframe thead th {\n",
       "        text-align: right;\n",
       "    }\n",
       "</style>\n",
       "<table border=\"1\" class=\"dataframe\">\n",
       "  <thead>\n",
       "    <tr style=\"text-align: right;\">\n",
       "      <th></th>\n",
       "      <th>month</th>\n",
       "      <th>payment_type</th>\n",
       "      <th>count</th>\n",
       "      <th>month_dt</th>\n",
       "    </tr>\n",
       "  </thead>\n",
       "  <tbody>\n",
       "    <tr>\n",
       "      <th>0</th>\n",
       "      <td>2019-02</td>\n",
       "      <td>1</td>\n",
       "      <td>5184488</td>\n",
       "      <td>2019-02-01</td>\n",
       "    </tr>\n",
       "    <tr>\n",
       "      <th>1</th>\n",
       "      <td>2019-01</td>\n",
       "      <td>2</td>\n",
       "      <td>2137247</td>\n",
       "      <td>2019-01-01</td>\n",
       "    </tr>\n",
       "    <tr>\n",
       "      <th>2</th>\n",
       "      <td>2019-01</td>\n",
       "      <td>4</td>\n",
       "      <td>11164</td>\n",
       "      <td>2019-01-01</td>\n",
       "    </tr>\n",
       "    <tr>\n",
       "      <th>3</th>\n",
       "      <td>2019-01</td>\n",
       "      <td>1</td>\n",
       "      <td>5485968</td>\n",
       "      <td>2019-01-01</td>\n",
       "    </tr>\n",
       "    <tr>\n",
       "      <th>4</th>\n",
       "      <td>2019-01</td>\n",
       "      <td>3</td>\n",
       "      <td>33186</td>\n",
       "      <td>2019-01-01</td>\n",
       "    </tr>\n",
       "    <tr>\n",
       "      <th>...</th>\n",
       "      <td>...</td>\n",
       "      <td>...</td>\n",
       "      <td>...</td>\n",
       "      <td>...</td>\n",
       "    </tr>\n",
       "    <tr>\n",
       "      <th>153</th>\n",
       "      <td>2021-03</td>\n",
       "      <td>None</td>\n",
       "      <td>127920</td>\n",
       "      <td>2021-03-01</td>\n",
       "    </tr>\n",
       "    <tr>\n",
       "      <th>154</th>\n",
       "      <td>2021-04</td>\n",
       "      <td>None</td>\n",
       "      <td>128020</td>\n",
       "      <td>2021-04-01</td>\n",
       "    </tr>\n",
       "    <tr>\n",
       "      <th>155</th>\n",
       "      <td>2021-05</td>\n",
       "      <td>None</td>\n",
       "      <td>127296</td>\n",
       "      <td>2021-05-01</td>\n",
       "    </tr>\n",
       "    <tr>\n",
       "      <th>156</th>\n",
       "      <td>2021-06</td>\n",
       "      <td>None</td>\n",
       "      <td>123538</td>\n",
       "      <td>2021-06-01</td>\n",
       "    </tr>\n",
       "    <tr>\n",
       "      <th>157</th>\n",
       "      <td>2021-07</td>\n",
       "      <td>None</td>\n",
       "      <td>130656</td>\n",
       "      <td>2021-07-01</td>\n",
       "    </tr>\n",
       "  </tbody>\n",
       "</table>\n",
       "<p>158 rows × 4 columns</p>\n",
       "</div>"
      ],
      "text/plain": [
       "       month payment_type    count   month_dt\n",
       "0    2019-02            1  5184488 2019-02-01\n",
       "1    2019-01            2  2137247 2019-01-01\n",
       "2    2019-01            4    11164 2019-01-01\n",
       "3    2019-01            1  5485968 2019-01-01\n",
       "4    2019-01            3    33186 2019-01-01\n",
       "..       ...          ...      ...        ...\n",
       "153  2021-03         None   127920 2021-03-01\n",
       "154  2021-04         None   128020 2021-04-01\n",
       "155  2021-05         None   127296 2021-05-01\n",
       "156  2021-06         None   123538 2021-06-01\n",
       "157  2021-07         None   130656 2021-07-01\n",
       "\n",
       "[158 rows x 4 columns]"
      ]
     },
     "execution_count": 47,
     "metadata": {},
     "output_type": "execute_result"
    }
   ],
   "source": [
    "import matplotlib.pyplot as plt\n",
    "from dateutil import parser\n",
    "import pandas as pd\n",
    "\n",
    "taxi_fare_payment_grouped_df['month_dt'] = pd.to_datetime(taxi_fare_payment_grouped_df[\"month\"])\n",
    "\n",
    "payment_types = {\n",
    "    \"1\": \"Credit card\",\n",
    "    \"2\": \"Cash\",\n",
    "    \"3\": \"No charge\",\n",
    "    \"4\": \"Dispute\",\n",
    "    \"5\": \"Unknown\",\n",
    "    \"6\": \"Voided trip\",\n",
    "}\n",
    "\n",
    "taxi_fare_payment_grouped_df"
   ]
  },
  {
   "cell_type": "code",
   "execution_count": null,
   "id": "f6113d4e",
   "metadata": {},
   "outputs": [],
   "source": []
  }
 ],
 "metadata": {
  "kernelspec": {
   "display_name": "Python 3 (ipykernel)",
   "language": "python",
   "name": "python3"
  },
  "language_info": {
   "codemirror_mode": {
    "name": "ipython",
    "version": 3
   },
   "file_extension": ".py",
   "mimetype": "text/x-python",
   "name": "python",
   "nbconvert_exporter": "python",
   "pygments_lexer": "ipython3",
   "version": "3.9.6"
  }
 },
 "nbformat": 4,
 "nbformat_minor": 5
}
